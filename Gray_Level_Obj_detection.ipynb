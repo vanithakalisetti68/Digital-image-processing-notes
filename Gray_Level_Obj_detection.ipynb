{
 "cells": [
  {
   "cell_type": "code",
   "execution_count": 1,
   "metadata": {
    "collapsed": true
   },
   "outputs": [],
   "source": [
    "# Put these at the top of every notebook, to get automatic reloading and inline plotting - murali\n",
    "%reload_ext autoreload\n",
    "%autoreload 2\n",
    "%matplotlib inline"
   ]
  },
  {
   "cell_type": "code",
   "execution_count": 2,
   "metadata": {
    "collapsed": true
   },
   "outputs": [],
   "source": [
    "from tqdm import tqdm_notebook"
   ]
  },
  {
   "cell_type": "code",
   "execution_count": 3,
   "metadata": {
    "collapsed": true
   },
   "outputs": [],
   "source": [
    "import cv2\n",
    "import numpy as np\n",
    "import matplotlib.pyplot as plt #importing matplotlib\n"
   ]
  },
  {
   "cell_type": "code",
   "execution_count": 4,
   "metadata": {
    "collapsed": true
   },
   "outputs": [],
   "source": [
    "img=cv2.imread(\"five.png\",cv2.IMREAD_GRAYSCALE)\n"
   ]
  },
  {
   "cell_type": "code",
   "execution_count": 5,
   "metadata": {},
   "outputs": [
    {
     "data": {
      "image/png": "[encoded data removed]",
      "text/plain": [
       "<Figure size 432x288 with 1 Axes>"
      ]
     },
     "metadata": {},
     "output_type": "display_data"
    }
   ],
   "source": [
    "plt.imshow(img,cmap = plt.cm.gray)\n",
    "plt.title('my picture')\n",
    "plt.show()\n"
   ]
  },
  {
   "cell_type": "code",
   "execution_count": 6,
   "metadata": {},
   "outputs": [
    {
     "data": {
      "text/plain": [
       "array([  0, 127, 195, 232, 255], dtype=uint8)"
      ]
     },
     "execution_count": 6,
     "metadata": {},
     "output_type": "execute_result"
    }
   ],
   "source": [
    "np.unique(img)"
   ]
  },
  {
   "cell_type": "code",
   "execution_count": 7,
   "metadata": {
    "collapsed": true
   },
   "outputs": [],
   "source": [
    "def calc_unique(img):\n",
    "    return np.unique(img)"
   ]
  },
  {
   "cell_type": "code",
   "execution_count": 8,
   "metadata": {
    "collapsed": true
   },
   "outputs": [],
   "source": [
    "def count_unique_(img):\n",
    "    \n",
    "    count_unique=dict()\n",
    "    rows=img.shape[0]\n",
    "    cols=img.shape[1]\n",
    "    \n",
    "    for row in range(rows):\n",
    "        for col in range(cols):\n",
    "            count_unique[img[row][col]]=count_unique.get(img[row][col],0)+1\n",
    "            \n",
    "    import operator\n",
    "    print(sorted(count_unique.items(), key=operator.itemgetter(1)))\n",
    "    \n",
    "    \n",
    "    count_unique = sorted(count_unique.items(), key=operator.itemgetter(1))\n",
    "    \n",
    "    \n",
    "    \n",
    "    print(count_unique)\n",
    "\n",
    "    return count_unique"
   ]
  },
  {
   "cell_type": "code",
   "execution_count": 9,
   "metadata": {
    "collapsed": true
   },
   "outputs": [],
   "source": [
    "def find_background(count_unique):\n",
    "    return count_unique[-1][0]"
   ]
  },
  {
   "cell_type": "code",
   "execution_count": 10,
   "metadata": {
    "collapsed": true
   },
   "outputs": [],
   "source": [
    "import operator\n",
    "def binarize(img,count_unique,i):\n",
    "    \n",
    "    print(\"---binarize--\")\n",
    "    \n",
    "    \n",
    "    bg_color=find_background(count_unique)\n",
    "\n",
    "    \n",
    "    count_unique = count_unique[:-1]\n",
    "    \n",
    "    largest=count_unique[-1-i][0]\n",
    "    smallest=count_unique[i+0][0]\n",
    "    \n",
    "    \n",
    "    dup_count_unique=count_unique.copy()\n",
    "    \n",
    "#     dup_count_unique[largest]=largest\n",
    "#     dup_count_unique[smallest]=smallest\n",
    "\n",
    "\n",
    "    filler=dict()\n",
    "    \n",
    "    filler[largest]=largest\n",
    "    filler[smallest]=smallest\n",
    "    filler[bg_color]=bg_color\n",
    "    \n",
    "    for key,count in dup_count_unique:\n",
    "        \n",
    "        if key !=largest and key!=smallest:\n",
    "            filler[key]= bg_color\n",
    "            \n",
    "            \n",
    "            \n",
    "\n",
    "    print(dup_count_unique)   \n",
    "    print(filler)   \n",
    "    \n",
    "    rows=img.shape[0]\n",
    "    cols=img.shape[1]\n",
    "    new_img=img.copy()\n",
    "    for row in range(rows):\n",
    "        for col in range(cols):\n",
    "            new_img[row][col]=filler.get(img[row][col],bg_color)\n",
    "        \n",
    "        \n",
    "    return new_img"
   ]
  },
  {
   "cell_type": "code",
   "execution_count": 11,
   "metadata": {
    "scrolled": true
   },
   "outputs": [
    {
     "name": "stdout",
     "output_type": "stream",
     "text": [
      "[(255, 5736), (232, 10736), (195, 33807), (127, 68245), (0, 159567)]\n",
      "[(255, 5736), (232, 10736), (195, 33807), (127, 68245), (0, 159567)]\n",
      "---binarize--\n",
      "[(255, 5736), (232, 10736), (195, 33807), (127, 68245)]\n",
      "{0: 0, 232: 0, 255: 255, 195: 0, 127: 127}\n"
     ]
    }
   ],
   "source": [
    "count_uniq=count_unique_(img)\n",
    "final_image= binarize(img,count_uniq,0)"
   ]
  },
  {
   "cell_type": "code",
   "execution_count": null,
   "metadata": {
    "collapsed": true
   },
   "outputs": [],
   "source": []
  },
  {
   "cell_type": "code",
   "execution_count": 12,
   "metadata": {},
   "outputs": [
    {
     "data": {
      "image/png": "[encoded data removed]",
      "text/plain": [
       "<Figure size 432x288 with 1 Axes>"
      ]
     },
     "metadata": {},
     "output_type": "display_data"
    }
   ],
   "source": [
    "plt.imshow(final_image,cmap = plt.cm.gray)\n",
    "plt.title('my picture')\n",
    "plt.show()\n"
   ]
  },
  {
   "cell_type": "code",
   "execution_count": 13,
   "metadata": {},
   "outputs": [
    {
     "data": {
      "text/plain": [
       "True"
      ]
     },
     "execution_count": 13,
     "metadata": {},
     "output_type": "execute_result"
    }
   ],
   "source": [
    "cv2.imwrite(\"1st_level.png\",final_image)"
   ]
  },
  {
   "cell_type": "code",
   "execution_count": 14,
   "metadata": {},
   "outputs": [
    {
     "name": "stdout",
     "output_type": "stream",
     "text": [
      "---binarize--\n",
      "[(255, 5736), (232, 10736), (195, 33807), (127, 68245)]\n",
      "{232: 232, 0: 0, 195: 195, 127: 0, 255: 0}\n"
     ]
    }
   ],
   "source": [
    "final_image2= binarize(img,count_uniq,1)"
   ]
  },
  {
   "cell_type": "code",
   "execution_count": 15,
   "metadata": {},
   "outputs": [
    {
     "data": {
      "image/png": "[encoded data removed]",
      "text/plain": [
       "<Figure size 432x288 with 1 Axes>"
      ]
     },
     "metadata": {},
     "output_type": "display_data"
    }
   ],
   "source": [
    "plt.imshow(final_image2,cmap = plt.cm.gray)\n",
    "plt.title('my picture')\n",
    "plt.show()\n"
   ]
  },
  {
   "cell_type": "code",
   "execution_count": 16,
   "metadata": {},
   "outputs": [
    {
     "data": {
      "text/plain": [
       "True"
      ]
     },
     "execution_count": 16,
     "metadata": {},
     "output_type": "execute_result"
    }
   ],
   "source": [
    "cv2.imwrite(\"2nd_level.png\",final_image2)"
   ]
  },
  {
   "cell_type": "code",
   "execution_count": null,
   "metadata": {
    "collapsed": true
   },
   "outputs": [],
   "source": []
  },
  {
   "cell_type": "code",
   "execution_count": null,
   "metadata": {
    "collapsed": true
   },
   "outputs": [],
   "source": []
  },
  {
   "cell_type": "code",
   "execution_count": null,
   "metadata": {
    "collapsed": true
   },
   "outputs": [],
   "source": []
  },
  {
   "cell_type": "code",
   "execution_count": null,
   "metadata": {
    "collapsed": true
   },
   "outputs": [],
   "source": []
  },
  {
   "cell_type": "code",
   "execution_count": null,
   "metadata": {
    "collapsed": true
   },
   "outputs": [],
   "source": []
  },
  {
   "cell_type": "code",
   "execution_count": null,
   "metadata": {
    "collapsed": true
   },
   "outputs": [],
   "source": []
  },
  {
   "cell_type": "code",
   "execution_count": null,
   "metadata": {
    "collapsed": true
   },
   "outputs": [],
   "source": []
  },
  {
   "cell_type": "code",
   "execution_count": null,
   "metadata": {
    "collapsed": true
   },
   "outputs": [],
   "source": []
  },
  {
   "cell_type": "code",
   "execution_count": null,
   "metadata": {
    "collapsed": true
   },
   "outputs": [],
   "source": []
  },
  {
   "cell_type": "code",
   "execution_count": null,
   "metadata": {
    "collapsed": true
   },
   "outputs": [],
   "source": []
  }
 ],
 "metadata": {
  "kernelspec": {
   "display_name": "python35",
   "language": "python",
   "name": "python35"
  },
  "language_info": {
   "codemirror_mode": {
    "name": "ipython",
    "version": 3
   },
   "file_extension": ".py",
   "mimetype": "text/x-python",
   "name": "python",
   "nbconvert_exporter": "python",
   "pygments_lexer": "ipython3",
   "version": "3.5.2"
  }
 },
 "nbformat": 4,
 "nbformat_minor": 2
}
